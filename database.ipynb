{
  "nbformat": 4,
  "nbformat_minor": 0,
  "metadata": {
    "colab": {
      "name": "database.ipynb",
      "provenance": [],
      "authorship_tag": "ABX9TyOz9zQftCVhLRXLClW/eQ6i",
      "include_colab_link": true
    },
    "kernelspec": {
      "name": "python3",
      "display_name": "Python 3"
    }
  },
  "cells": [
    {
      "cell_type": "markdown",
      "metadata": {
        "id": "view-in-github",
        "colab_type": "text"
      },
      "source": [
        "<a href=\"https://colab.research.google.com/github/thunder1234x/Python/blob/main/database.ipynb\" target=\"_parent\"><img src=\"https://colab.research.google.com/assets/colab-badge.svg\" alt=\"Open In Colab\"/></a>"
      ]
    },
    {
      "cell_type": "code",
      "metadata": {
        "id": "UTDipZ26MGhh"
      },
      "source": [
        "# python Database code"
      ],
      "execution_count": null,
      "outputs": []
    },
    {
      "cell_type": "code",
      "metadata": {
        "id": "pMHNG43YNXyo"
      },
      "source": [
        "import sqlite3"
      ],
      "execution_count": null,
      "outputs": []
    },
    {
      "cell_type": "code",
      "metadata": {
        "id": "T938GYJPN3vh"
      },
      "source": [
        "conn=sqlite3.connect(r'C:\\Users\\Public\\contact db')"
      ],
      "execution_count": null,
      "outputs": []
    },
    {
      "cell_type": "code",
      "metadata": {
        "colab": {
          "base_uri": "https://localhost:8080/"
        },
        "id": "yJ2Lx1BSO1IT",
        "outputId": "15307b95-db91-4306-ec08-422aec3a4b15"
      },
      "source": [
        "conn.execute('create table  if not exists account_info(acount_no integer not null primary key , owner text , balance integer not null)')"
      ],
      "execution_count": null,
      "outputs": [
        {
          "output_type": "execute_result",
          "data": {
            "text/plain": [
              "<sqlite3.Cursor at 0x7fdb106e6c00>"
            ]
          },
          "metadata": {
            "tags": []
          },
          "execution_count": 16
        }
      ]
    },
    {
      "cell_type": "code",
      "metadata": {
        "colab": {
          "base_uri": "https://localhost:8080/"
        },
        "id": "sLsQhVYUO-gS",
        "outputId": "6b4d9fdb-0f9e-41e1-d3a7-6eda6ae47122"
      },
      "source": [
        "conn.execute('insert into account_info values(37943 , \"Rakesh\",4555)')"
      ],
      "execution_count": null,
      "outputs": [
        {
          "output_type": "execute_result",
          "data": {
            "text/plain": [
              "<sqlite3.Cursor at 0x7fdb1069a960>"
            ]
          },
          "metadata": {
            "tags": []
          },
          "execution_count": 18
        }
      ]
    },
    {
      "cell_type": "code",
      "metadata": {
        "colab": {
          "base_uri": "https://localhost:8080/"
        },
        "id": "FKuzmGxWRTsD",
        "outputId": "e0713b6b-074f-4604-a56d-26419a31751f"
      },
      "source": [
        "conn.execute('insert into account_info values(3534 , \"Bishaw\",7890)')"
      ],
      "execution_count": null,
      "outputs": [
        {
          "output_type": "execute_result",
          "data": {
            "text/plain": [
              "<sqlite3.Cursor at 0x7fdb11f8cc00>"
            ]
          },
          "metadata": {
            "tags": []
          },
          "execution_count": 21
        }
      ]
    },
    {
      "cell_type": "code",
      "metadata": {
        "colab": {
          "base_uri": "https://localhost:8080/"
        },
        "id": "UPhpMCVzRsKm",
        "outputId": "e336ca5a-591d-466b-a668-fac853c5d4a8"
      },
      "source": [
        "%%time\r\n",
        "cursor=conn.cursor()"
      ],
      "execution_count": null,
      "outputs": [
        {
          "output_type": "stream",
          "text": [
            "CPU times: user 11 µs, sys: 2 µs, total: 13 µs\n",
            "Wall time: 16.5 µs\n"
          ],
          "name": "stdout"
        }
      ]
    },
    {
      "cell_type": "code",
      "metadata": {
        "colab": {
          "base_uri": "https://localhost:8080/"
        },
        "id": "NsQdl4U0R4cz",
        "outputId": "36a496b4-24fe-408d-9b84-a00509ac61df"
      },
      "source": [
        "cursor.execute('select * from account_info')"
      ],
      "execution_count": null,
      "outputs": [
        {
          "output_type": "execute_result",
          "data": {
            "text/plain": [
              "<sqlite3.Cursor at 0x7fdb089aec00>"
            ]
          },
          "metadata": {
            "tags": []
          },
          "execution_count": 38
        }
      ]
    },
    {
      "cell_type": "code",
      "metadata": {
        "colab": {
          "base_uri": "https://localhost:8080/"
        },
        "id": "aek8qhF3SYTY",
        "outputId": "e5bbfac4-7260-40c3-8516-e3e5a1da5eef"
      },
      "source": [
        "for row in cursor.fetchall():\r\n",
        "  print(row)"
      ],
      "execution_count": null,
      "outputs": [
        {
          "output_type": "stream",
          "text": [
            "(3534, 'Bishaw', 7890)\n",
            "(37943, 'Rakesh', 4555)\n"
          ],
          "name": "stdout"
        }
      ]
    },
    {
      "cell_type": "code",
      "metadata": {
        "colab": {
          "base_uri": "https://localhost:8080/"
        },
        "id": "uU7zrlM2SerL",
        "outputId": "91407403-11df-487f-ce93-1679658855b3"
      },
      "source": [
        "update_sql='alter table account_info add  gender'\r\n",
        "\r\n",
        "cursor.execute(update_sql)"
      ],
      "execution_count": null,
      "outputs": [
        {
          "output_type": "execute_result",
          "data": {
            "text/plain": [
              "<sqlite3.Cursor at 0x7fdb089aec00>"
            ]
          },
          "metadata": {
            "tags": []
          },
          "execution_count": 40
        }
      ]
    },
    {
      "cell_type": "code",
      "metadata": {
        "colab": {
          "base_uri": "https://localhost:8080/"
        },
        "id": "Y3Bi6MN0THOq",
        "outputId": "84796205-89fd-4535-c4a0-52fc331d12bf"
      },
      "source": [
        "cursor.execute('select * from account_info')"
      ],
      "execution_count": null,
      "outputs": [
        {
          "output_type": "execute_result",
          "data": {
            "text/plain": [
              "<sqlite3.Cursor at 0x7fdb089aec00>"
            ]
          },
          "metadata": {
            "tags": []
          },
          "execution_count": 43
        }
      ]
    },
    {
      "cell_type": "code",
      "metadata": {
        "colab": {
          "base_uri": "https://localhost:8080/"
        },
        "id": "rsUrwhCiUTEQ",
        "outputId": "4ec7167f-798e-4ac7-c457-3ca8cb1e01d6"
      },
      "source": [
        "cursor.fetchall()"
      ],
      "execution_count": null,
      "outputs": [
        {
          "output_type": "execute_result",
          "data": {
            "text/plain": [
              "[(3534, 'Bishaw', 7890, None), (37943, 'Rakesh', 4555, None)]"
            ]
          },
          "metadata": {
            "tags": []
          },
          "execution_count": 44
        }
      ]
    },
    {
      "cell_type": "code",
      "metadata": {
        "colab": {
          "base_uri": "https://localhost:8080/"
        },
        "id": "HA-abkijVBa_",
        "outputId": "1b0d0567-f561-41f0-df08-44f65f966d16"
      },
      "source": [
        "cursor.execute('update account_info set gender=\"Male\"')"
      ],
      "execution_count": null,
      "outputs": [
        {
          "output_type": "execute_result",
          "data": {
            "text/plain": [
              "<sqlite3.Cursor at 0x7fdb089aec00>"
            ]
          },
          "metadata": {
            "tags": []
          },
          "execution_count": 47
        }
      ]
    },
    {
      "cell_type": "code",
      "metadata": {
        "colab": {
          "base_uri": "https://localhost:8080/"
        },
        "id": "PTg2GjQPXj5x",
        "outputId": "00d80f33-86d0-4d84-d8b5-6467a1b5aa96"
      },
      "source": [
        "cursor.rowcount #affected rows number "
      ],
      "execution_count": null,
      "outputs": [
        {
          "output_type": "execute_result",
          "data": {
            "text/plain": [
              "2"
            ]
          },
          "metadata": {
            "tags": []
          },
          "execution_count": 49
        }
      ]
    },
    {
      "cell_type": "code",
      "metadata": {
        "colab": {
          "base_uri": "https://localhost:8080/"
        },
        "id": "xnqwZTfta9Tj",
        "outputId": "89964691-8cb2-4f17-8510-f390b5c162c8"
      },
      "source": [
        "try :\r\n",
        "  cursor.execute('select * from account_info')\r\n",
        "  cursor.fetchall()\r\n",
        "  cursor.connection.commit()\r\n",
        "  cursor.close()\r\n",
        "except:\r\n",
        "  print('already closed')"
      ],
      "execution_count": null,
      "outputs": [
        {
          "output_type": "stream",
          "text": [
            "already closed\n"
          ],
          "name": "stdout"
        }
      ]
    },
    {
      "cell_type": "code",
      "metadata": {
        "id": "i5HCcAZebQBw"
      },
      "source": [
        "import pytz\r\n",
        "import datetime"
      ],
      "execution_count": null,
      "outputs": []
    },
    {
      "cell_type": "code",
      "metadata": {
        "colab": {
          "base_uri": "https://localhost:8080/"
        },
        "id": "T_bOxT4Tbk8N",
        "outputId": "a9ecf7d8-d94c-406c-c32b-99d5b28cb741"
      },
      "source": [
        "pytz.utc.localize(datetime.datetime.utcnow())"
      ],
      "execution_count": null,
      "outputs": [
        {
          "output_type": "execute_result",
          "data": {
            "text/plain": [
              "datetime.datetime(2020, 12, 20, 4, 51, 54, 585960, tzinfo=<UTC>)"
            ]
          },
          "metadata": {
            "tags": []
          },
          "execution_count": 73
        }
      ]
    },
    {
      "cell_type": "code",
      "metadata": {
        "id": "Mu-_Nf-UboLU"
      },
      "source": [
        "cursor2=conn.cursor()"
      ],
      "execution_count": null,
      "outputs": []
    },
    {
      "cell_type": "code",
      "metadata": {
        "colab": {
          "base_uri": "https://localhost:8080/"
        },
        "id": "yJ_G2oqJb3B4",
        "outputId": "38f688a3-8587-4ace-90ab-a0ff0ba6a190"
      },
      "source": [
        "cursor2.execute('select * from account_info')\r\n",
        "cursor2.fetchall()"
      ],
      "execution_count": null,
      "outputs": [
        {
          "output_type": "execute_result",
          "data": {
            "text/plain": [
              "[(3534, 'Bishaw', 7890, 'Male'), (37943, 'Rakesh', 4555, 'Male')]"
            ]
          },
          "metadata": {
            "tags": []
          },
          "execution_count": 78
        }
      ]
    },
    {
      "cell_type": "markdown",
      "metadata": {
        "id": "yCk2wg1aqQMa"
      },
      "source": [
        "Longest common subsequence"
      ]
    },
    {
      "cell_type": "code",
      "metadata": {
        "id": "FPkj6LAlroUC"
      },
      "source": [
        "import numpy as np"
      ],
      "execution_count": null,
      "outputs": []
    },
    {
      "cell_type": "code",
      "metadata": {
        "id": "2YY5iCCFo9wE"
      },
      "source": [
        "def Lcs_Tab(str1,str2):\r\n",
        "\r\n",
        "  len_str1=len(str1)+1\r\n",
        "  len_str2=len(str2)+1\r\n",
        "\r\n",
        "  table=np.zeros(len_str1*len_str2).reshape(len_str1,len_str2)\r\n",
        "  # print(table)\r\n",
        "\r\n",
        "  for i in range(1,len_str1):\r\n",
        "    for j in range(1,len_str2):\r\n",
        "  \r\n",
        "      if str1[i-1]==str2[j-1]:\r\n",
        "        table[i,j]=table[i-1,j-1]+1\r\n",
        "\r\n",
        "      elif str1[i-1]!=str2[j-1]:\r\n",
        "        table[i,j]=max(table[i-1,j] , table[i,j-1])\r\n",
        "\r\n",
        "  # print(table)\r\n",
        "  return table[len_str1-1,len_str2-1]\r\n",
        "\r\n",
        "  #complexity O(m*n) for two times nested  iteration through array m*n shape"
      ],
      "execution_count": null,
      "outputs": []
    },
    {
      "cell_type": "code",
      "metadata": {
        "colab": {
          "base_uri": "https://localhost:8080/"
        },
        "id": "9QSSocifqxzV",
        "outputId": "f2aecdbc-dc06-4c1d-d657-1cd18bf952b2"
      },
      "source": [
        "%%time\r\n",
        "Lcs_Tab(\"XMJYAUZ\",'MZJAWXU')"
      ],
      "execution_count": null,
      "outputs": [
        {
          "output_type": "stream",
          "text": [
            "CPU times: user 390 µs, sys: 46 µs, total: 436 µs\n",
            "Wall time: 455 µs\n"
          ],
          "name": "stdout"
        },
        {
          "output_type": "execute_result",
          "data": {
            "text/plain": [
              "4.0"
            ]
          },
          "metadata": {
            "tags": []
          },
          "execution_count": 131
        }
      ]
    },
    {
      "cell_type": "code",
      "metadata": {
        "colab": {
          "base_uri": "https://localhost:8080/"
        },
        "id": "e1KQBwiarY-o",
        "outputId": "d734b344-a77c-497d-993d-c0398b2ee2fd"
      },
      "source": [
        "%%time\r\n",
        "def LCSLength_memo(X, Y, m, n, lookup): \r\n",
        "  # return if we have reached the end of either string\r\n",
        "\r\n",
        "    if (m,n)  in lookup:\r\n",
        "        return lookup[(m,n)]\r\n",
        "    if m == 0 or n == 0:\r\n",
        "        return 0\r\n",
        "\r\n",
        "    # construct a unique dict key from dynamic elements of the input\r\n",
        "    # key = (m, n)\r\n",
        "\r\n",
        "    # if sub-problem is seen for the first time, solve it and\r\n",
        "    # store its result in a dict\r\n",
        "    # if key not in lookup:\r\n",
        "\r\n",
        "        # if last character of X and Y matches\r\n",
        "    if X[m - 1] == Y[n - 1]:\r\n",
        "        lookup[(m,n)] = LCSLength(X, Y, m - 1, n - 1, lookup) + 1\r\n",
        "\r\n",
        "    else:\r\n",
        "        # else if last character of X and Y don't match\r\n",
        "        lookup[(m,n)] = max(LCSLength(X, Y, m, n - 1, lookup),\r\n",
        "                            LCSLength(X, Y, m - 1, n, lookup))\r\n",
        "\r\n",
        "    # return the sub-problem solution from the dictionary\r\n",
        "    return lookup[m,n]\r\n",
        "\r\n",
        "\r\n",
        "if __name__ == '__main__':\r\n",
        "    X = \"ABCBDAB\"\r\n",
        "    Y = \"BDCABA\"\r\n",
        "\r\n",
        "    # create a dictionary to store solutions of subproblems\r\n",
        "    lookup = {}\r\n",
        "\r\n",
        "    print(\"The length of LCS is\", LCSLength_memo(X, Y, len(X), len(Y), lookup))"
      ],
      "execution_count": null,
      "outputs": [
        {
          "output_type": "stream",
          "text": [
            "The length of LCS is 4\n",
            "CPU times: user 142 µs, sys: 17 µs, total: 159 µs\n",
            "Wall time: 172 µs\n"
          ],
          "name": "stdout"
        }
      ]
    },
    {
      "cell_type": "code",
      "metadata": {
        "id": "jtb7l82I80R6"
      },
      "source": [
        "def all_Lcs_tab(str1,str2):\r\n",
        "  len_str1=len(str1)+1\r\n",
        "  len_str2=len(str2)+1\r\n",
        "  table=[]\r\n",
        "\r\n",
        "\r\n",
        "  for row in range(0,len_str1):\r\n",
        "    table.append([])\r\n",
        "    for col in range(0,len_str2):\r\n",
        "      table[row].append([])\r\n",
        "\r\n",
        "  for r in range(0,len_str1):\r\n",
        "    for c in range(0,1):\r\n",
        "      table[r][c].append([])\r\n",
        "\r\n",
        "  for i in range(1,len_str1):\r\n",
        "    for j in range(1,len_str2):\r\n",
        "  \r\n",
        "      if str1[i-1]==str2[j-1]:\r\n",
        "        newcombination=([[value]for value in table[i-1][j-1]])\r\n",
        "        table[i][j].append([value+[str1[i-1]] for value in newcombination])\r\n",
        "\r\n",
        "      elif str1[i-1]!=str2[j-1]:\r\n",
        "        l_1=len(table[i-1][j])\r\n",
        "        l_2=len(table[i][j-1])\r\n",
        "        if l_1>l_2:\r\n",
        "          table[i][j].extend(table[i-1][j]+[str1[i-1]])\r\n",
        "        else:\r\n",
        "           table[i][j].extend(table[i][j-1]+[str1[i-1]])\r\n",
        "  \r\n",
        "  \r\n",
        "  print(table[len(str1)][len(str2)])\r\n",
        "\r\n"
      ],
      "execution_count": null,
      "outputs": []
    },
    {
      "cell_type": "code",
      "metadata": {
        "colab": {
          "base_uri": "https://localhost:8080/"
        },
        "id": "RihtJpLHOFRY",
        "outputId": "53b39cc3-3986-45f0-a5e7-1b14f8446911"
      },
      "source": [
        "all_Lcs_tab(\"XMJYAUZ\",'MZJAWXU')"
      ],
      "execution_count": null,
      "outputs": [
        {
          "output_type": "stream",
          "text": [
            "[[], 'X', 'X', 'M', 'J', 'Y', 'A', 'U', 'U', 'Z', 'Z', 'Z', 'Z', 'Z']\n"
          ],
          "name": "stdout"
        }
      ]
    },
    {
      "cell_type": "code",
      "metadata": {
        "id": "-K0AIyRyOcxp"
      },
      "source": [
        ""
      ],
      "execution_count": null,
      "outputs": []
    }
  ]
}